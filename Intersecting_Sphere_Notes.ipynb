{
 "cells": [
  {
   "cell_type": "code",
   "execution_count": 1,
   "metadata": {},
   "outputs": [],
   "source": [
    "import sympy as sp\n"
   ]
  },
  {
   "cell_type": "code",
   "execution_count": 2,
   "metadata": {},
   "outputs": [],
   "source": [
    "r1,r2,d,n = sp.symbols(\"r1 r2 d n\")\n",
    "x = (d**2-r2**2+r1**2)/(2*d)\n",
    "d1 = x\n",
    "d2 = d-x\n",
    "h1 = r1-d1\n",
    "h2 = r2-d2"
   ]
  },
  {
   "cell_type": "code",
   "execution_count": 3,
   "metadata": {},
   "outputs": [
    {
     "data": {
      "text/latex": [
       "$\\displaystyle \\frac{\\left(- d + r_{1} + r_{2}\\right) \\left(d + r_{1} - r_{2}\\right)}{2 d}$"
      ],
      "text/plain": [
       "(-d + r1 + r2)*(d + r1 - r2)/(2*d)"
      ]
     },
     "execution_count": 3,
     "metadata": {},
     "output_type": "execute_result"
    }
   ],
   "source": [
    "sp.factor(h2)"
   ]
  },
  {
   "cell_type": "code",
   "execution_count": 4,
   "metadata": {},
   "outputs": [
    {
     "data": {
      "text/latex": [
       "$\\displaystyle \\frac{\\pi \\left(n - 1\\right) \\left(16 r_{1}^{3} - \\left(d - 2 r_{1}\\right)^{2} \\left(d + 4 r_{1}\\right)\\right)}{12}$"
      ],
      "text/plain": [
       "pi*(n - 1)*(16*r1**3 - (d - 2*r1)**2*(d + 4*r1))/12"
      ]
     },
     "execution_count": 4,
     "metadata": {},
     "output_type": "execute_result"
    }
   ],
   "source": [
    "sphere_vol = sp.Rational(4,3)*sp.pi*r1**3\n",
    "lens_vol = ((4*r1+d)*((2*r1-d)**2))*(sp.pi/12)\n",
    "new_sphere_vol = 4/3*sp.pi*r1**3 - ((4*r1+d)*((2*r1-d)**2))*(sp.pi/12)\n",
    "sp.simplify((n-1)*(sphere_vol-lens_vol))"
   ]
  },
  {
   "cell_type": "code",
   "execution_count": 5,
   "metadata": {},
   "outputs": [],
   "source": [
    "V=((r1+r2-d)**2)*(d**2+2*d*r2-3*r2**2+2*d*r1+6*r2*r1-3*r1**2)*sp.pi/(12*d)\n"
   ]
  },
  {
   "cell_type": "markdown",
   "metadata": {},
   "source": [
    "## Calculating the volume of two intersecting spheres."
   ]
  },
  {
   "cell_type": "markdown",
   "metadata": {},
   "source": [
    "Let $S_1$ be the first sphere and $S_2$ be the second sphere, $r_i$ be the radius of the corresponding sphere, $d$ be the separation of the spheres. These spheres are centered at $(0,0,0)$ and $(0,0,d)$ respectively. One can write an expression for the surface of the sphere as:\n",
    "<br>\n",
    "<br>\n",
    "$$\n",
    "x_1^2 + y_1^2+z_1^2 = r_1^2\n",
    "$$\n",
    "<br>\n",
    "$$\n",
    "(x_2-d)^2 + y_2^2+z_2^2 = r_2^2\n",
    "$$\n",
    "\n",
    "This allows us to write an expression for the $x$ value at which they intersect, by combining the two expressions and solving for $x$.\n",
    "\n",
    "$$\n",
    "x = \\frac{(d^2-r_2^2+r_1^2)}{2d}\n",
    "$$\n",
    "\n",
    "One can determine the nature of the curve the intersection possesses by rearranging for an expression for the $y$ and $z$ values.\n",
    "\n",
    "$$\n",
    "y^2 +z^2 = r_1^2-x^2\n",
    "$$\n",
    "\n",
    "As we know both $r_1$ and $x$ are constants, we can determine that this curve takes the shape of a circle parallel to the $yz$ plane. This means that the volume common to both spheres takes the shape of a lens. The volume of this lens can be calculated summing the two spherical caps. The distance between the centre of the spheres and the base of the spherical caps can be expressed as:\n",
    "\n",
    "$$\n",
    "d_1 = x\n",
    "d_2 = d-x\n",
    "$$\n",
    "\n",
    "The heights of the caps themselves can be written as:\n",
    "\n",
    "$$\n",
    "h_1 = r_1-d_1 = \\frac{\\left( r_{1} - r_{2} -d \\right) \\left(r_{1} + r_{2} - d \\right)}{2 d}\n",
    "$$\n",
    "\n",
    "$$\n",
    "h_2 = r_2-d_2 =  \\frac{\\left( r_{1} + r_{2} -d \\right) \\left(r_{1} - r_{2} + d \\right)}{2 d}\n",
    "$$\n",
    "\n",
    "The volume of a spherical cap expressed as the height and radius of the sphere is:\n",
    "$$\n",
    "V = 1/3 \\pi h^2 (3r-h)\n",
    "$$\n",
    "\n",
    "Thus the expression for the volume of the whole lens is:\n",
    "$$\n",
    "\\frac{ \\left( r_{1} + r_{2}- d\\right)^{2} \\left(d^{2} + 2 d r_{1} + 2 d r_{2} - 3 r_{1}^{2} + 6 r_{1} r_{2} - 3 r_{2}^{2}\\right)\\pi}{12d}\n",
    "$$\n",
    "\n",
    "In the case where the spheres are identical in size, this expression can be simplified to:\n",
    "\n",
    "$$\n",
    "\\frac{ \\left(2 r_{1}- d \\right)^{2} \\left(d + 4 r_{1}\\right)\\pi}{12}\n",
    "$$\n",
    "\n",
    "If one wanted to calculate the total volume of two intersecting spheres, one can then simply add the volume of the two spheres and subtract the volume of the intersecting lens once.  This provides the expression:\n",
    "\n",
    "$$\n",
    "\\frac{\\left( 12 d r_{1}^{2} + 16 r_{1}^{3} - d^{3} \\right)\\pi}{12}\n",
    "$$\n",
    "\n",
    "One can also iteratively calculate the volume for a sequential chain of spheres by calculating the volume of a sphere and then adding the volume of a new sphere and subtracting the volume of a lens for each additional sphere. Therefore if one lets $n$ be the number of spheres in the chain, the total volume for the chain of spheres can be expressed as:\n",
    "$$\n",
    "\\frac{4}{3}\\pi r_1^3 + \\\n",
    "\\frac{\\pi \\left(n - 1\\right) \\left(16 r_{1}^{3} - \\left(d - 2 r_{1}\\right)^{2} \\left(d + 4 r_{1}\\right)\\right)}{12}\n",
    "$$"
   ]
  },
  {
   "cell_type": "code",
   "execution_count": 38,
   "metadata": {},
   "outputs": [],
   "source": [
    "import numpy as np\n",
    "\n",
    "r = 0.5\n",
    "pi = np.pi\n",
    "n = 2\n",
    "d = 0.4"
   ]
  },
  {
   "cell_type": "code",
   "execution_count": 39,
   "metadata": {},
   "outputs": [],
   "source": [
    "vol  = ((4*pi*r**3)/3)+pi*(n-1)*(16*r**3-((d-2*r)**2)*(d+4*r))/12"
   ]
  },
  {
   "cell_type": "code",
   "execution_count": 43,
   "metadata": {},
   "outputs": [],
   "source": [
    "pf = 32*vol/36.215"
   ]
  },
  {
   "cell_type": "code",
   "execution_count": null,
   "metadata": {},
   "outputs": [],
   "source": []
  }
 ],
 "metadata": {
  "kernelspec": {
   "display_name": "Python 3",
   "language": "python",
   "name": "python3"
  },
  "language_info": {
   "codemirror_mode": {
    "name": "ipython",
    "version": 3
   },
   "file_extension": ".py",
   "mimetype": "text/x-python",
   "name": "python",
   "nbconvert_exporter": "python",
   "pygments_lexer": "ipython3",
   "version": "3.8.3"
  }
 },
 "nbformat": 4,
 "nbformat_minor": 4
}
